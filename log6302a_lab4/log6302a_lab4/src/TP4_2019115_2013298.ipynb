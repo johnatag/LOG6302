{
 "cells": [
  {
   "cell_type": "markdown",
   "metadata": {},
   "source": [
    "# Authors\n",
    "Ikram Kohil, 2019115 \\\n",
    "Johnatan Gao, 2013298"
   ]
  },
  {
   "cell_type": "markdown",
   "metadata": {},
   "source": [
    "# 1. DataFlow extraction\n",
    "\n",
    "In this part, we must extract the intra-procedural dataflow [1] of the exmple code that was provided:\n",
    "\n",
    "- For each variable reference, we must determine the corresponding definition(s) [2]\n",
    "- For each definition, we must determine the corresponding reference(s) [3]\n",
    "\n",
    "*For this lab, we must only consider the simple definitions of the form (Variable = Expression ^ Literal)* [4]\n",
    "\n",
    "We must verify our implementation by insuring that the set of pairs (definition - refefence) corresponds to the set of pairs (reference - definition). We must then extract the sets for the files in the part_1 folder.\n",
    "\n",
    "[1] Intra-procedural dataflow refers to the analysis of how variables and values flow within a single function or procedure. In other words, it looks at how information moves from one point to another within a piece of code that is defined by a set of procedures or functions. This type of analysis can be useful for identifying common programming errors such as uninitialized variables, null pointer references, and other issues related to the flow of data through a program.\n",
    "''''\n",
    "For each variable references, we must determine the corresponding definition (s)\n",
    "\n",
    "Since it's been instructed to only consider simple definitions:\n",
    "Variable = Expression ^ Literal\n",
    "\n",
    "''''"
   ]
  },
  {
   "cell_type": "code",
   "execution_count": 1,
   "metadata": {},
   "outputs": [
    {
     "ename": "ModuleNotFoundError",
     "evalue": "No module named 'graphviz'",
     "output_type": "error",
     "traceback": [
      "\u001b[0;31m---------------------------------------------------------------------------\u001b[0m",
      "\u001b[0;31mModuleNotFoundError\u001b[0m                       Traceback (most recent call last)",
      "Cell \u001b[0;32mIn[1], line 5\u001b[0m\n\u001b[1;32m      1\u001b[0m \u001b[38;5;66;03m# This is Ikram's code (reference, definition)\u001b[39;00m\n\u001b[0;32m----> 5\u001b[0m \u001b[38;5;28;01mfrom\u001b[39;00m \u001b[38;5;21;01mcode_analysis\u001b[39;00m \u001b[38;5;28;01mimport\u001b[39;00m CFG, CFGReader\n\u001b[1;32m      8\u001b[0m \u001b[38;5;28;01mclass\u001b[39;00m \u001b[38;5;21;01mVariableVisitor\u001b[39;00m:\n\u001b[1;32m      9\u001b[0m     \u001b[38;5;28;01mdef\u001b[39;00m \u001b[38;5;21m__init__\u001b[39m(\u001b[38;5;28mself\u001b[39m, filename):\n",
      "File \u001b[0;32m/workspaces/LOG6302/log6302a_lab4/log6302a_lab4/src/code_analysis/__init__.py:10\u001b[0m\n\u001b[1;32m      6\u001b[0m __author__ \u001b[38;5;241m=\u001b[39m \u001b[38;5;124m'\u001b[39m\u001b[38;5;124mJulien Cassagne <julien.e.cassagne@gmail.com>\u001b[39m\u001b[38;5;124m'\u001b[39m\n\u001b[1;32m      7\u001b[0m __copyright__ \u001b[38;5;241m=\u001b[39m \u001b[38;5;124m'\u001b[39m\u001b[38;5;124mCopyright (c) 2024, all rights reserved. Copying content is expressly prohibited without prior \u001b[39m\u001b[38;5;124m'\u001b[39m \\\n\u001b[1;32m      8\u001b[0m                 \u001b[38;5;124m'\u001b[39m\u001b[38;5;124mwritten permission of the University or the authors. \u001b[39m\u001b[38;5;124m'\u001b[39m\n\u001b[0;32m---> 10\u001b[0m \u001b[38;5;28;01mfrom\u001b[39;00m \u001b[38;5;21;01m.\u001b[39;00m\u001b[38;5;21;01mGraph\u001b[39;00m \u001b[38;5;28;01mimport\u001b[39;00m Graph\n\u001b[1;32m     11\u001b[0m \u001b[38;5;28;01mfrom\u001b[39;00m \u001b[38;5;21;01m.\u001b[39;00m\u001b[38;5;21;01mAST\u001b[39;00m \u001b[38;5;28;01mimport\u001b[39;00m AST\n\u001b[1;32m     12\u001b[0m \u001b[38;5;28;01mfrom\u001b[39;00m \u001b[38;5;21;01m.\u001b[39;00m\u001b[38;5;21;01mASTFragmentation\u001b[39;00m \u001b[38;5;28;01mimport\u001b[39;00m AST_fragmentation\n",
      "File \u001b[0;32m/workspaces/LOG6302/log6302a_lab4/log6302a_lab4/src/code_analysis/Graph.py:4\u001b[0m\n\u001b[1;32m      2\u001b[0m \u001b[38;5;124;03m\"\"\" Define a Graph with nodes, edges, root and extra node related information \"\"\"\u001b[39;00m\n\u001b[1;32m      3\u001b[0m \u001b[38;5;28;01mfrom\u001b[39;00m \u001b[38;5;21;01mcode_analysis\u001b[39;00m\u001b[38;5;21;01m.\u001b[39;00m\u001b[38;5;21;01mGraphException\u001b[39;00m \u001b[38;5;28;01mimport\u001b[39;00m GraphException\n\u001b[0;32m----> 4\u001b[0m \u001b[38;5;28;01mfrom\u001b[39;00m \u001b[38;5;21;01mgraphviz\u001b[39;00m \u001b[38;5;28;01mimport\u001b[39;00m Source\n\u001b[1;32m      5\u001b[0m \u001b[38;5;28;01mimport\u001b[39;00m \u001b[38;5;21;01mjson\u001b[39;00m\n\u001b[1;32m      7\u001b[0m \u001b[38;5;28;01mtry\u001b[39;00m:\n",
      "\u001b[0;31mModuleNotFoundError\u001b[0m: No module named 'graphviz'"
     ]
    }
   ],
   "source": [
    "# This is Ikram's code (reference, definition)\n",
    "\n",
    "\n",
    "\n",
    "from code_analysis import CFG, CFGReader\n",
    "\n",
    "\n",
    "class VariableVisitor:\n",
    "    def __init__(self, filename):\n",
    "        self.cfg = None\n",
    "        self.filename = filename\n",
    "        self.test = []\n",
    "\n",
    "        # Stored in array\n",
    "        ## Using a set to avoid adding nodes that have already been visited\n",
    "        self.visited_nodes = set()\n",
    "        ## Contains all references to variables\n",
    "        self.refs = []\n",
    "        ## Contains all defined variables\n",
    "        self.defs = []\n",
    "\n",
    "    def visit(self, cfg: CFG):\n",
    "        self.cfg = cfg\n",
    "        print(f\"Visiting CFG from file {self.filename}\")\n",
    "\n",
    "        # Visit main program\n",
    "        self.__visit(self.cfg.get_root())\n",
    "\n",
    "        # Visit all other procedures in file\n",
    "        defined_func_entry_nodes = self.cfg.get_func_entry_nodes()\n",
    "        if len(defined_func_entry_nodes) > 0:\n",
    "            for entry_node in defined_func_entry_nodes:\n",
    "                self.__visit(entry_node)\n",
    "\n",
    "\n",
    "    def __visit(self, node_id: int):\n",
    "        is_binOP_equal = lambda child_node_id: self.cfg.get_type(child_node_id) == \"BinOP\" and self.cfg.get_image(child_node_id) == \"=\"\n",
    "        self.visited_nodes.add(node_id)\n",
    "        # Find all the variable nodes the  operator first\n",
    "        node_image = self.cfg.get_type(node_id)\n",
    "        if(node_image == \"Variable\"):\n",
    "            # Check if child is (BinOP =);\n",
    "            node_children = self.cfg.get_children(node_id)\n",
    "            node_binop_eqal = [child_node_id for child_node_id in node_children if is_binOP_equal(child_node_id)]\n",
    " \n",
    "            ## if yes, then definition\n",
    "            ## if not, then reference\n",
    "            if len(node_binop_eqal) > 0:\n",
    "                self.defs.append(node_id)\n",
    "            else:\n",
    "                self.refs.append(node_id)\n",
    "\n",
    "        if(is_binOP_equal(node_id)):\n",
    "            is_var = lambda child_node_id: self.cfg.get_type(child_node_id) == \"Variable\"\n",
    "            node_var = [child_node_id for child_node_id in self.cfg.get_op_hands(node_id) if is_var(child_node_id)]\n",
    "            print(self.cfg.get_op_hands(node_id))\n",
    "            print(self.cfg.get_var_id(node_var[0]))\n",
    "\n",
    "            # self.cfg.get_\n",
    "\n",
    "            print(self.cfg.get_type(node_var[0]))\n",
    "            print(self.cfg.get_position(node_var[0]))\n",
    "\n",
    "        # Visit children\n",
    "        children = self.cfg.get_any_children(node_id)\n",
    "        for child_id in children:\n",
    "            # Only visit if not previously visited, for performance\n",
    "            if child_id not in self.visited_nodes:\n",
    "                self.__visit(child_id)\n",
    "\n",
    "cfg_reader = CFGReader()\n",
    "filename = '/home/rami/Documents/LOG6302A/LOG6302/log6302a_lab4/log6302a_lab4/tp4/part_1/wordcount.php.cfg.json'\n",
    "cfg = cfg_reader.read_cfg(filename)\n",
    "\n",
    "# Visit currently loaded cfg\n",
    "visitor = VariableVisitor(filename)\n",
    "visitor.visit(cfg)"
   ]
  },
  {
   "cell_type": "code",
   "execution_count": 2,
   "metadata": {},
   "outputs": [
    {
     "ename": "SyntaxError",
     "evalue": "invalid syntax (3388072770.py, line 14)",
     "output_type": "error",
     "traceback": [
      "\u001b[0;36m  Cell \u001b[0;32mIn[2], line 14\u001b[0;36m\u001b[0m\n\u001b[0;31m    self.visited_nodes = set()        self.idefs= []\u001b[0m\n\u001b[0m                                      ^\u001b[0m\n\u001b[0;31mSyntaxError\u001b[0m\u001b[0;31m:\u001b[0m invalid syntax\n"
     ]
    }
   ],
   "source": [
    "# This is Gao's code (definition, reference)\n",
    "from typing import List\n",
    "\n",
    "from code_analysis import CFG\n",
    "\n",
    "class DefinitionVisitor:\n",
    "\n",
    "    \n",
    "        \n",
    "        \n",
    "        "
   ]
  }
 ],
 "metadata": {
  "kernelspec": {
   "display_name": "Python 3",
   "language": "python",
   "name": "python3"
  },
  "language_info": {
   "codemirror_mode": {
    "name": "ipython",
    "version": 3
   },
   "file_extension": ".py",
   "mimetype": "text/x-python",
   "name": "python",
   "nbconvert_exporter": "python",
   "pygments_lexer": "ipython3",
   "version": "3.8.18"
  }
 },
 "nbformat": 4,
 "nbformat_minor": 2
}
