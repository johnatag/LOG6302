{
 "cells": [
  {
   "cell_type": "markdown",
   "metadata": {},
   "source": [
    "# Authors\n",
    "\n",
    "- Ikram Kohil, 2019115\n",
    "- Johnatan Gao, 2013298"
   ]
  },
  {
   "cell_type": "code",
   "execution_count": 1,
   "metadata": {},
   "outputs": [],
   "source": [
    "from IPython import display\n",
    "from base64 import b64decode"
   ]
  },
  {
   "cell_type": "markdown",
   "metadata": {},
   "source": [
    "# Vector of metrics\n",
    "\n",
    "To solve the problems posed in this laboratory, we will extract metrics from the AST. To do this, we will find in the Python class AST a method called \"vectorize\". This method returns a vector corresponding to the occurrences of each type of node: a concrete example of the applied transformation is available below.\n",
    "\n",
    "In order to solve the problems in this lab, we need to extract the metrics of AST."
   ]
  }
 ],
 "metadata": {
  "kernelspec": {
   "display_name": "Python 3",
   "language": "python",
   "name": "python3"
  },
  "language_info": {
   "codemirror_mode": {
    "name": "ipython",
    "version": 3
   },
   "file_extension": ".py",
   "mimetype": "text/x-python",
   "name": "python",
   "nbconvert_exporter": "python",
   "pygments_lexer": "ipython3",
   "version": "3.8.18"
  }
 },
 "nbformat": 4,
 "nbformat_minor": 2
}
