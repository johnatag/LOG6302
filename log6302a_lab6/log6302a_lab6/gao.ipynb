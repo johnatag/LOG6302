{
 "cells": [
  {
   "cell_type": "markdown",
   "metadata": {},
   "source": [
    "# Authors\n",
    "\n",
    "- Ikram Kohil, 2019115\n",
    "- Johnatan Gao, 2013298"
   ]
  },
  {
   "cell_type": "code",
   "execution_count": null,
   "metadata": {},
   "outputs": [],
   "source": [
    "from IPython import display\n",
    "from base64 import b64decode"
   ]
  },
  {
   "cell_type": "markdown",
   "metadata": {},
   "source": [
    "# Vector of metrics\n",
    "\n",
    "To solve the problems posed in this laboratory, we will extract metrics from the AST. To do this, we will find in the Python class AST a method called \"vectorize\". This method returns a vector corresponding to the occurrences of each type of node: a concrete example of the applied transformation is available below.\n",
    "\n",
    "In order to solve the problems in this lab, we need to extract the metrics of AST."
   ]
  },
  {
   "cell_type": "markdown",
   "metadata": {},
   "source": [
    "# Fragmentation\n",
    "\n",
    "The vector of metrics extracted previously applies to the entire AST, hence to the entire file. To extract metrics at a finer level, it will be necessary to fragment the AST. For instance, if we want to extract metrics from each function to perform similarity calculations on them, we will need to fragment the AST at the level of functions (nodes *MethodStatement and *FunctionStatement)."
   ]
  },
  {
   "cell_type": "code",
   "execution_count": null,
   "metadata": {},
   "outputs": [],
   "source": [
    "import tempfile\n",
    "from collections import defaultdict\n",
    "from collections.abc import Iterable\n",
    "from copy import deepcopy\n",
    "from pathlib import Path\n",
    "import copy\n",
    "import os\n",
    "\n",
    "from code_analysis import CFG, ASTReader, CFGReader, Graph, AST_fragmentation\n",
    "from graphviz import Source\n",
    "from IPython.display import Image, display\n",
    "from pydantic import BaseModel\n",
    "\n",
    "part2_output_directory = \"./output/extracted_fragments/\"\n",
    "\n",
    "def show_graph(graph: Graph):\n",
    "    \"\"\"Afficher le graphe dans Jupyter\"\"\"\n",
    "    dot = graph.to_dot()\n",
    "    s = Source(dot)\n",
    "    # Specify the file path with .dot extension\n",
    "    with tempfile.NamedTemporaryFile(suffix=\".dot\") as f:\n",
    "        s.render(f.name, format=\"png\")\n",
    "        display(Image(f.name + \".png\"))\n",
    "\n",
    "\n",
    "def create_output_file(file_path: str, content: str):\n",
    "    # Check if output directory exists, if not, create it\n",
    "    directory = os.path.dirname(file_path)\n",
    "    if not os.path.exists(directory):\n",
    "        os.makedirs(directory)\n",
    "\n",
    "    # Delete the file if it exists\n",
    "    # create the file using append\n",
    "\n",
    "    # Create the file\n",
    "    with open(file_path, \"a\") as file:\n",
    "        # You can optionally write some content to the file here\n",
    "        file.write(content)\n",
    "\n",
    "def output_fragments(source_directory, target_directory):\n",
    "    # Check if target directory exists, if not, create it\n",
    "    if not os.path.exists(target_directory):\n",
    "        os.makedirs(target_directory)\n",
    "\n",
    "    # Use os.walk to recursively visit the source folder\n",
    "    for current_dir, dir_names, file_names in os.walk(source_directory):\n",
    "        for filename in file_names:\n",
    "            # Find all zipped files\n",
    "            if filename.endswith('.ast.json'):\n",
    "                # Construct source path from source directory and the filename\n",
    "                source_path = os.path.join(current_dir, filename)\n",
    "\n",
    "                # Construct target path by replacing the source directory with target directory\n",
    "                target_rel_path = os.path.relpath(current_dir, source_directory)\n",
    "                target_dir = os.path.join(target_directory, target_rel_path)\n",
    "                target_path = os.path.join(target_dir, filename[:-3])\n",
    "                \n",
    "                # Check if target directory exists, if not, create it (this is for the target directories within the main directory)\n",
    "                if not os.path.exists(target_dir):\n",
    "                    os.makedirs(target_dir)\n",
    "                \n",
    "                # Write the extracted fragments in their own ast.json file\n",
    "                ast = ASTReader().read_ast(source_path)\n",
    "                fragments = AST_fragmentation(ast)\n",
    "\n",
    "                for idx, fragment in enumerate(fragments):\n",
    "                    output_filename = f\"{filename}_{idx}.fragment.json\"\n",
    "                    output_filepath = os.path.join(target_dir, output_filename)\n",
    "                    ast_copy = copy.deepcopy(ast)\n",
    "                    ast_copy.set_root(fragment)\n",
    "                    create_output_file(output_filepath, ast_copy.to_json())\n",
    "\n",
    "#output_fragments(\"./output/extracted_ast/\", target_directory=part2_output_directory)\n",
    "#show_graph(ASTReader().read_ast(\"output/extracted_fragments/0229/io/Login/index.php.ast.json_0.fragment.json\"))"
   ]
  }
 ],
 "metadata": {
  "kernelspec": {
   "display_name": "Python 3",
   "language": "python",
   "name": "python3"
  },
  "language_info": {
   "codemirror_mode": {
    "name": "ipython",
    "version": 3
   },
   "file_extension": ".py",
   "mimetype": "text/x-python",
   "name": "python",
   "nbconvert_exporter": "python",
   "pygments_lexer": "ipython3",
   "version": "3.8.18"
  }
 },
 "nbformat": 4,
 "nbformat_minor": 2
}
