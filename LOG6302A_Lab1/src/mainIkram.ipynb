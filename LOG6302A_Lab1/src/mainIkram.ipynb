{
 "cells": [
  {
   "cell_type": "markdown",
   "id": "e7710767",
   "metadata": {},
   "source": [
    "## 1. Pattern Detection"
   ]
  },
  {
   "cell_type": "markdown",
   "id": "31d8c9c9",
   "metadata": {},
   "source": [
    "### 1.0 Retrieve the names of all ast files"
   ]
  },
  {
   "cell_type": "code",
   "execution_count": 17,
   "id": "9d558e16",
   "metadata": {},
   "outputs": [],
   "source": [
    "from code_analysis import AST, ASTReader\n",
    "from pathlib import Path\n",
    "import os\n",
    "\n",
    "## Global variables\n",
    "reader = ASTReader()\n",
    "\n",
    "# Check if output file already exists, if so, delete and create new file\n",
    "filename = \"output.txt\"\n",
    "if os.path.exists(filename):\n",
    "    os.remove(filename)\n",
    "\n",
    "# Open in 'append' mode to avoid overwriting the whole file after each modification\n",
    "output_file = open(filename, \"a\")\n",
    "\n",
    "\n",
    "## Get all the filenames in a given directory that sastifies a condition (*.ast.json)\n",
    "def get_ast_json_files(directory):\n",
    "   directory = Path(directory)\n",
    "   return [str(file) for file in directory.rglob('*.ast.json')]"
   ]
  },
  {
   "cell_type": "markdown",
   "id": "f37159c1",
   "metadata": {},
   "source": [
    "\n",
    "### 1.1 Create visitor that will visit a given ast in search of calls to an SQL Database\n",
    "_**Note:** In php, calls to an SQL db can be done in the following ways:_\n",
    "```\n",
    "    mysql_query ( * ) ;\n",
    "    mysqli_query ( * ) ;\n",
    "    $object - > execute () ;\n",
    "    $object - > mysql - > exec ( * ) ;\n",
    "```  "
   ]
  },
  {
   "cell_type": "code",
   "execution_count": 18,
   "id": "9da1a2ce",
   "metadata": {},
   "outputs": [],
   "source": [
    "class ASTSqlCallVisitor:\n",
    "    # Not sure if this is necessary\n",
    "    def __init__(self):\n",
    "        self.ast = None\n",
    "        self.isFirstVisitToFile = True\n",
    "\n",
    "    def visit(self, ast: AST):\n",
    "        self.ast = ast\n",
    "        self.isFirstVisitToFile = True\n",
    "\n",
    "        # State which file is being visited\n",
    "        print(f\"----- Visiting AST from file {self.ast.get_filename()} -----\\n\")\n",
    "\n",
    "        # Start by visiting the root node of the ast\n",
    "        # The private 'visit function' will recursively visit the children of each node\n",
    "        self.__visit(self.ast.get_root())\n",
    "        \n",
    "    def __visit(self, node_id: int):\n",
    "        # Define the conditions that must be respected for a node to be considered a call to an SQL DB (based on the above note)\n",
    "        nodeImage = self.ast.get_image(node_id)\n",
    "        isMethodOrFunctionCall = (self.ast.get_type(node_id) == \"FunctionCall\" or self.ast.get_type(node_id) == \"MethodCall\")\n",
    "\n",
    "        isSqlQuery = isMethodOrFunctionCall and nodeImage == \"mysql_query\"\n",
    "        isSqliQuery = isMethodOrFunctionCall and nodeImage == \"mysqli_query\"\n",
    "        isExecuteMethodCall = isMethodOrFunctionCall and nodeImage == \"execute\"\n",
    "        isExecMethodCall = isMethodOrFunctionCall and nodeImage == \"exec\"\n",
    "\n",
    "        if isSqlQuery or isSqliQuery or isExecuteMethodCall or isExecMethodCall:\n",
    "            # State which file is being visited - only printed in the output file if a call to db has been detected.\n",
    "            if self.isFirstVisitToFile:\n",
    "                output_file.write(f\"\\n\")\n",
    "                output_file.write(f\"----- Visiting AST from file {self.ast.get_filename()} -----\\n\")\n",
    "                self.isFirstVisitToFile = False\n",
    "\n",
    "            output_file.write(f\"Function '{nodeImage}' is called \"\n",
    "                f\"at line {self.ast.get_position(node_id)[0]}\\n\")\n",
    "            \n",
    "        for child_id in self.ast.get_children(node_id):\n",
    "            self.__visit(child_id)"
   ]
  },
  {
   "cell_type": "markdown",
   "id": "7c63adbf",
   "metadata": {},
   "source": [
    "### 1.2 For each ast file, load ast in memory and visit nodes in search of db calls"
   ]
  },
  {
   "cell_type": "code",
   "execution_count": 19,
   "id": "0f26e690",
   "metadata": {},
   "outputs": [],
   "source": [
    "def findSqlInFolder(directory: str):\n",
    "    # Retrieve filenames\n",
    "    astFilenames = get_ast_json_files(directory)\n",
    "\n",
    "    # Iterate over the filenames array\n",
    "    for filename in astFilenames:\n",
    "        # Load ast in memory\n",
    "        ast = reader.read_ast(filename)\n",
    "\n",
    "        # Visit ast\n",
    "        visitor = ASTSqlCallVisitor()\n",
    "        visitor.visit(ast)\n"
   ]
  },
  {
   "cell_type": "markdown",
   "id": "a3834fcb",
   "metadata": {},
   "source": [
    "### 1.3 Specify directory to analyze"
   ]
  },
  {
   "cell_type": "code",
   "execution_count": null,
   "id": "832f8f33",
   "metadata": {},
   "outputs": [],
   "source": [
    "findSqlInFolder(\"../code_to_analyze/wordpress_ast/\")\n",
    "output_file.close()"
   ]
  }
 ],
 "metadata": {
  "kernelspec": {
   "display_name": "Python 3 (ipykernel)",
   "language": "python",
   "name": "python3"
  },
  "language_info": {
   "codemirror_mode": {
    "name": "ipython",
    "version": 3
   },
   "file_extension": ".py",
   "mimetype": "text/x-python",
   "name": "python",
   "nbconvert_exporter": "python",
   "pygments_lexer": "ipython3",
   "version": "3.8.10"
  }
 },
 "nbformat": 4,
 "nbformat_minor": 5
}
