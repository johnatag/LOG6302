{
 "cells": [
  {
   "cell_type": "markdown",
   "metadata": {
    "collapsed": true,
    "pycharm": {
     "name": "#%% md\n"
    }
   },
   "source": [
    "# LOG6302A - Lab1 - AST & visitor examples"
   ]
  },
  {
   "cell_type": "markdown",
   "metadata": {
    "collapsed": false
   },
   "source": [
    "## Load AST"
   ]
  },
  {
   "cell_type": "code",
   "execution_count": null,
   "metadata": {
    "collapsed": false,
    "pycharm": {
     "name": "#%%\n"
    }
   },
   "outputs": [],
   "source": [
    "class ASTFunctionDefinitionVisitor:\n",
    "  def __init__(self):\n",
    "    self.ast = None\n",
    "  def visit(self, ast: AST):\n",
    "    self.ast = ast\n",
    "    print(f\"Visit AST from file {self.ast.get_filename()}\")\n",
    "    self.__visit(self.ast.get_root())\n",
    "\n",
    "  def __visit(self, node_id: int):\n",
    "    if self.ast.get_type(node_id) == \"FunctionStatement\":\n",
    "      print(f\"Function '{self.ast.get_image(node_id)}' definition is from \"\n",
    "      f\"line {self.ast.get_position(node_id)[0]} to {self.ast.get_position(node_id)[1]}\")\n",
    "\n",
    "    for child_id in self.ast.get_children(node_id):\n",
    "      self.__visit(child_id)\n",
    "\n",
    "visitor = ASTFunctionDefinitionVisitor()\n",
    "visitor.visit(ast)\n",
    "visitor.visit(ast_2)"
   ]
  },
  {
   "cell_type": "code",
   "execution_count": null,
   "metadata": {
    "collapsed": false,
    "pycharm": {
     "name": "#%%\n"
    }
   },
   "outputs": [],
   "source": [
    "from code_analysis import AST, ASTReader\n",
    "\n",
    "reader = ASTReader()\n",
    "ast = reader.read_ast(\"../example/example_1.php.ast.json\")\n",
    "ast_2 = reader.read_ast(\"../example/example_2.php.ast.json\")"
   ]
  },
  {
   "cell_type": "markdown",
   "metadata": {
    "collapsed": false
   },
   "source": [
    "## Access AST information"
   ]
  },
  {
   "cell_type": "code",
   "execution_count": null,
   "metadata": {
    "collapsed": false,
    "pycharm": {
     "name": "#%%\n"
    }
   },
   "outputs": [],
   "source": [
    "'''\n",
    "ast.get_root()       # Return the root node ID\n",
    "ast.get_type(45)     # Return the type of node 45\n",
    "ast.get_image(45)    # Return the image of node 45\n",
    "ast.get_children(45) # Return the list of children\n",
    "ast.get_parent(45)   # Return the list of parents\n",
    "ast.get_position(45) # Return the position in source file as an\n",
    "                     # array [line_begin, line_end, column_begin, column_end, token_begin, token_end]\n",
    "'''\n",
    "\n",
    "root = ast.get_root()\n",
    "print(f\"Root node ID is {root}\")\n",
    "print(f\"Root type is {ast.get_type(root)}\")\n",
    "\n",
    "print(f\"Node root children are {ast.get_children(root)}\")\n",
    "for node_id in ast.get_children(root):\n",
    "  print(f\"Node type of {node_id} is {ast.get_type(node_id)}\")\n"
   ]
  },
  {
   "cell_type": "markdown",
   "metadata": {
    "collapsed": false
   },
   "source": [
    "## Create a visitor that returns function call position in source file"
   ]
  },
  {
   "cell_type": "code",
   "execution_count": null,
   "metadata": {
    "collapsed": false,
    "pycharm": {
     "name": "#%%\n"
    }
   },
   "outputs": [],
   "source": [
    "class ASTFunctionCallVisitor:\n",
    "  def __init__(self):\n",
    "    self.ast = None\n",
    "  def visit(self, ast: AST):\n",
    "    self.ast = ast\n",
    "    print(f\"Visit AST from file {self.ast.get_filename()}\")\n",
    "    self.__visit(self.ast.get_root())\n",
    "\n",
    "  def __visit(self, node_id: int):\n",
    "    if self.ast.get_type(node_id) == \"FunctionCall\":\n",
    "      print(f\"Function '{self.ast.get_image(node_id)}' is called \"\n",
    "            f\"at line {self.ast.get_position(node_id)[0]}\")\n",
    "\n",
    "    for child_id in self.ast.get_children(node_id):\n",
    "      self.__visit(child_id)\n",
    "\n",
    "visitor = ASTFunctionCallVisitor()\n",
    "visitor.visit(ast)\n",
    "visitor.visit(ast_2)"
   ]
  }
 ],
 "metadata": {
  "kernelspec": {
   "display_name": "Python 3",
   "language": "python",
   "name": "python3"
  },
  "language_info": {
   "codemirror_mode": {
    "name": "ipython",
    "version": 3
   },
   "file_extension": ".py",
   "mimetype": "text/x-python",
   "name": "python",
   "nbconvert_exporter": "python",
   "pygments_lexer": "ipython3",
   "version": "3.12.1"
  }
 },
 "nbformat": 4,
 "nbformat_minor": 0
}
