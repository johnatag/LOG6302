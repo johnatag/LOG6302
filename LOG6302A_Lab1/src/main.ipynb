{
 "cells": [
  {
   "cell_type": "markdown",
   "metadata": {},
   "source": [
    "## 1. Pattern Detection"
   ]
  },
  {
   "cell_type": "markdown",
   "metadata": {},
   "source": [
    "### 1.0 Retrieve the names of all ast files"
   ]
  },
  {
   "cell_type": "code",
   "execution_count": null,
   "metadata": {},
   "outputs": [],
   "source": [
    "from code_analysis import AST, ASTReader\n",
    "from pathlib import Path\n",
    "\n",
    "### Get all the filenames in a given directory that sastifies a condition (*.ast.json)\n",
    "def get_ast_json_files(directory):\n",
    "   directory = Path(directory)\n",
    "   return [str(p) for p in directory.rglob('*.ast.json')]"
   ]
  },
  {
   "cell_type": "markdown",
   "metadata": {},
   "source": [
    "### 1.1 Create visitor that will visit a given ast in search of calls to an SQL Database\n",
    "_**Note:** In php, calls to an SQL db can be done in the following ways:_\n",
    "```\n",
    "    mysql_query ( * ) ;\n",
    "    mysqli_query ( * ) ;\n",
    "    $object - > execute () ;\n",
    "    $object - > mysql - > exec ( * ) ;\n",
    "```"
   ]
  },
  {
   "cell_type": "code",
   "execution_count": null,
   "metadata": {},
   "outputs": [],
   "source": [
    "class ASTSqlCallVisitor:\n",
    "    def visit(self, ast: AST):\n",
    "        self.ast = ast\n",
    "        print(f\"----- Visiting AST from file {self.ast.get_filename()} -----\")\n",
    "        # Start by visiting the root node of the ast\n",
    "        # The private 'visit function' will recursively visit the children of each node\n",
    "        self.__visit(self.ast.get_root())\n",
    "        \n",
    "    def __visit(self, node_id: int):\n",
    "        # Define the conditions that must be respected for a node to be considered a call to an SQL DB (based on the above note)\n",
    "        nodeImage = self.ast.get_image(node_id)\n",
    "        isMethodOrFunctionCall = (self.ast.get_type(node_id) == \"FunctionCall\" or self.ast.get_type(node_id) == \"MethodCall\")\n",
    "\n",
    "        isSqlQuery = isMethodOrFunctionCall and nodeImage == \"mysql_query\"\n",
    "        isSqliQuery = isMethodOrFunctionCall and nodeImage == \"mysqli_query\"\n",
    "        isExecuteMethodCall = isMethodOrFunctionCall and nodeImage == \"execute\"\n",
    "        isExecMethodCall = isMethodOrFunctionCall and nodeImage == \"exec\n",
    "\n",
    "        if isSqlQuery or isSqliQuery or isExecuteMethodCall or isExecMethodCall:\n",
    "            print(f\"Function '{nodeImage}' is called \"\n",
    "            f\"at line {self.ast.get_position(node_id)[0]}\")\n",
    "\n",
    "\n",
    "\n",
    "#   def visit(self, ast: AST):\n",
    "#     self.ast = ast\n",
    "#     print(f\"Visit AST from file {self.ast.get_filename()}\")\n",
    "#     self.__visit(self.ast.get_root())\n",
    "\n",
    "#   def __visit(self, node_id: int):\n",
    "#     if self.ast.get_type(node_id) == \"FunctionCall\":\n",
    "#       print(f\"Function '{self.ast.get_image(node_id)}' is called \"\n",
    "#             f\"at line {self.ast.get_position(node_id)[0]}\")\n",
    "\n",
    "#     for child_id in self.ast.get_children(node_id):\n",
    "#       self.__visit(child_id)\n",
    "\n",
    "# visitor = ASTFunctionCallVisitor()\n",
    "# visitor.visit(ast)\n",
    "# visitor.visit(ast_2)"
   ]
  },
  {
   "cell_type": "markdown",
   "metadata": {},
   "source": [
    "### 1.2 For each file, load ast in memory and visit nodes in search of db calls  "
   ]
  },
  {
   "cell_type": "markdown",
   "metadata": {},
   "source": [
    "## 2. Known vulnerability detection\n",
    "\n"
   ]
  }
 ],
 "metadata": {
  "kernelspec": {
   "display_name": "Python 3",
   "language": "python",
   "name": "python3"
  },
  "language_info": {
   "codemirror_mode": {
    "name": "ipython",
    "version": 3
   },
   "file_extension": ".py",
   "mimetype": "text/x-python",
   "name": "python",
   "nbconvert_exporter": "python",
   "pygments_lexer": "ipython3",
   "version": "3.12.1"
  }
 },
 "nbformat": 4,
 "nbformat_minor": 2
}
