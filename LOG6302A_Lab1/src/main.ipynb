{
 "cells": [
  {
   "cell_type": "markdown",
   "id": "cbf1976b",
   "metadata": {},
   "source": []
  },
  {
   "cell_type": "markdown",
   "id": "e7710767",
   "metadata": {},
   "source": [
    "## 1. Pattern Detection"
   ]
  },
  {
   "cell_type": "markdown",
   "id": "31d8c9c9",
   "metadata": {},
   "source": [
    "### 1.1 Retrieve the names of all ast files"
   ]
  },
  {
   "cell_type": "code",
   "execution_count": 17,
   "id": "9d558e16",
   "metadata": {},
   "outputs": [],
   "source": [
    "from code_analysis import AST, ASTReader\n",
    "from pathlib import Path\n",
    "import os\n",
    "\n",
    "## Global variables\n",
    "reader = ASTReader()\n",
    "\n",
    "# Check if output file already exists, if so, delete and create new file\n",
    "filename = \"calls_to_db_output.txt\"\n",
    "if os.path.exists(filename):\n",
    "    os.remove(filename)\n",
    "\n",
    "# Open in 'append' mode to avoid overwriting the whole file after each modification\n",
    "output_file = open(filename, \"a\")\n",
    "\n",
    "\n",
    "## In specified directory, find all files ending with '.ast.json' in order to retrieve the list of all asts\n",
    "## Store file names satisfying the consition in an array in order to iterate over it when calling the visitor\n",
    "def get_ast_json_files(directory):\n",
    "   directory = Path(directory)\n",
    "   return [str(file) for file in directory.rglob('*.ast.json')]"
   ]
  },
  {
   "cell_type": "markdown",
   "id": "f37159c1",
   "metadata": {},
   "source": [
    "\n",
    "### 1.2 Create visitor that will visit a given ast in search of calls to an SQL Database"
   ]
  },
  {
   "cell_type": "code",
   "execution_count": 18,
   "id": "9da1a2ce",
   "metadata": {},
   "outputs": [],
   "source": [
    "from typing import List\n",
    "\n",
    "class ASTMethodCallVisitor:\n",
    "    def __init__(self, node_image_arr: List[str]):\n",
    "        self.ast = None\n",
    "        \n",
    "        # Used to determine if the ast is being visited for the first time, in order to print the name of the file only once in the output file\n",
    "        self.isFirstVisitToFile = True\n",
    "\n",
    "        # Used to store all functions to search for while visitng ast. Makes it easier to reuse this class for different use cases.\n",
    "        self.node_image_arr = node_image_arr\n",
    "\n",
    "        # Used to print an empty line after an ast in which a function call has been visited\n",
    "        self.hasFoundCall = False\n",
    "\n",
    "    def visit(self, ast: AST):\n",
    "        self.ast = ast\n",
    "        self.isFirstVisitToFile = True\n",
    "\n",
    "        # State which file is being visited, whether a call to one of the specified functions (in node_img_arr) has been found or not\n",
    "        print(f\"----- Visiting AST from file {self.ast.get_filename()} -----\\n\")\n",
    "\n",
    "        # Start by visiting the root node of the ast\n",
    "        # The private 'visit' function will recursively visit the children of each node\n",
    "        self.__visit(self.ast.get_root())\n",
    "\n",
    "        # After the entire ast has been visited\n",
    "        if self.hasFoundCall:\n",
    "            output_file.write(\"\\n\")\n",
    "\n",
    "            # Set the flag back to false for the next file\n",
    "            self.hasFoundCall = False\n",
    "        \n",
    "    def __visit(self, node_id: int):\n",
    "        # Define the conditions that must be respected for a node to be considered a call to a function (based on the above markdown note)\n",
    "        # The node's image refers to the name of the function/variable (ex: mysql_query, exec, etc)\n",
    "        nodeImage = self.ast.get_image(node_id)\n",
    "        isMethodOrFunctionCall = (self.ast.get_type(node_id) == \"FunctionCall\" or self.ast.get_type(node_id) == \"MethodCall\")\n",
    "\n",
    "        if isMethodOrFunctionCall and nodeImage in self.node_image_arr:\n",
    "            # Set the foundCall flag to true in order to add an empty line in the output file once the ast has been fully visited. Purely for formatting purposes.\n",
    "            self.hasFoundCall = True\n",
    "\n",
    "            #  State which file is being visited - only printed once in the output file if a call to a specified function has been detected.\n",
    "            if self.isFirstVisitToFile:\n",
    "                output_file.write(f\"----- Visiting AST from file {self.ast.get_filename()} -----\\n\")\n",
    "                self.isFirstVisitToFile = False\n",
    "\n",
    "            # Print all the lines in the file where the call has been made\n",
    "            output_file.write(f\"Function '{nodeImage}' is called \"\n",
    "                f\"at line {self.ast.get_position(node_id)[0]}\\n\")\n",
    "\n",
    "        # Visit the node's children    \n",
    "        for child_id in self.ast.get_children(node_id):\n",
    "            self.__visit(child_id)"
   ]
  },
  {
   "cell_type": "markdown",
   "id": "7c63adbf",
   "metadata": {},
   "source": [
    "### 1.3 For each ast file, load ast in memory and visit nodes in search of function calls"
   ]
  },
  {
   "cell_type": "code",
   "execution_count": 19,
   "id": "0f26e690",
   "metadata": {},
   "outputs": [],
   "source": [
    "def findMethodCallInFolder(directory: str, methods_to_find: List[str]):\n",
    "    # Retrieve filenames of all ast in the specified directory\n",
    "    astFilenames = get_ast_json_files(directory)\n",
    "\n",
    "    # Iterate over the filenames array\n",
    "    for filename in astFilenames:\n",
    "        # Load ast in memory\n",
    "        ast = reader.read_ast(filename)\n",
    "\n",
    "        # Visit currently loaded ast\n",
    "        visitor = ASTMethodCallVisitor(methods_to_find)\n",
    "        visitor.visit(ast)\n"
   ]
  },
  {
   "cell_type": "markdown",
   "id": "a3834fcb",
   "metadata": {},
   "source": [
    "### 1.4 Specify directory to analyze and functions to find\n",
    "_**Note:** In php, calls to an SQL db can be done in the following ways:_\n",
    "```\n",
    "    mysql_query ( * ) ;\n",
    "    mysqli_query ( * ) ;\n",
    "    $object - > execute () ;\n",
    "    $object - > mysql - > exec ( * ) ;\n",
    "```  "
   ]
  },
  {
   "cell_type": "code",
   "execution_count": null,
   "id": "832f8f33",
   "metadata": {},
   "outputs": [],
   "source": [
    "directory_to_analyze = \"../code_to_analyze/wordpress_ast/\"\n",
    "\n",
    "# List of all possible db calls in php (based on the above note)\n",
    "methods_to_find = [\"mysql_query\", \"mysqli_query\", \"execute\", \"exec\"]\n",
    "findMethodCallInFolder(directory_to_analyze, methods_to_find)\n",
    "output_file.close()"
   ]
  },
  {
   "cell_type": "markdown",
   "id": "d60c74ee",
   "metadata": {},
   "source": [
    "# 2. CVE Detection"
   ]
  },
  {
   "cell_type": "markdown",
   "id": "9dd1b276",
   "metadata": {},
   "source": [
    "## 2.1 CVEs to detect (gr.04): \n",
    "- [CVE-2017-7189](https://cve.mitre.org/cgi-bin/cvename.cgi?name=CVE-2017-7189):\n",
    "    - **Description**: main/streams/xp_socket.c in PHP 7.x before 2017-03-07 misparses **<u>fsockopen</u>** calls, such as by interpreting fsockopen('127.0.0.1:80', 443) as if the address/port were 127.0.0.1:80:443, which is later truncated to 127.0.0.1:80. This behavior has a security risk if the explicitly provided port number (i.e., 443 in this example) is hardcoded into an application as a security policy, but the hostname argument (i.e., 127.0.0.1:80 in this example) is obtained from untrusted input. \n",
    "- [CVE-2019-11039](https://cve.mitre.org/cgi-bin/cvename.cgi?name=CVE-2019-11039):\n",
    "    - **Description**: Function **<u>iconv_mime_decode_headers()</u>** in PHP versions 7.1.x below 7.1.30, 7.2.x below 7.2.19 and 7.3.x below 7.3.6 may perform out-of-buffer read due to integer overflow when parsing MIME headers. This may lead to information disclosure or crash. \n",
    "- [CVE-2021-21707](https://cve.mitre.org/cgi-bin/cvename.cgi?name=CVE-2021-21707):\n",
    "    - **Description**: In PHP versions 7.3.x below 7.3.33, 7.4.x below 7.4.26 and 8.0.x below 8.0.13, certain XML parsing functions, like **<u>simplexml_load_file()</u>**, URL-decode the filename passed to them. If that filename contains URL-encoded NUL character, this may cause the function to interpret this as the end of the filename, thus interpreting the filename differently from what the user intended, which may lead it to reading a different file than intended. "
   ]
  },
  {
   "cell_type": "markdown",
   "metadata": {},
   "source": [
    "## 2.2 Create new file to store output"
   ]
  },
  {
   "cell_type": "code",
   "execution_count": 21,
   "metadata": {},
   "outputs": [],
   "source": [
    "# Check if output file already exists, if so, delete and create new file\n",
    "filename = \"cve_detection_output.txt\"\n",
    "if os.path.exists(filename):\n",
    "    os.remove(filename)\n",
    "\n",
    "# Open in 'append' mode to avoid overwriting the whole file after each modification\n",
    "output_file = open(filename, \"a\")"
   ]
  },
  {
   "cell_type": "markdown",
   "metadata": {},
   "source": [
    "## 2.3 Find all problematic functions in specified folder: "
   ]
  },
  {
   "cell_type": "markdown",
   "metadata": {},
   "source": [
    "Based on the descriptions provided in 2.1, each CVE pertains to a specific function. Given that the `findMethodCallInFolder` function implemented in the previous section is generic enough, it can be reused in this section as well, with the appropriate functions specified as parameter."
   ]
  },
  {
   "cell_type": "code",
   "execution_count": null,
   "metadata": {},
   "outputs": [],
   "source": [
    "directory_to_analyze = \"../code_to_analyze/test_cve/\"\n",
    "\n",
    "output_file.write(f\"----- CVE-2017-7189 -----\\n\")\n",
    "findMethodCallInFolder(directory_to_analyze, \"fsockopen\")\n",
    "\n",
    "output_file.write(f\"----- CVE-2019-11039 -----\\n\")\n",
    "findMethodCallInFolder(directory_to_analyze, \"iconv_mime_decode_headers\")\n",
    "\n",
    "output_file.write(f\"----- CVE-2021-21707 -----\\n\")\n",
    "findMethodCallInFolder(directory_to_analyze, \"simplexml_load_file\")\n",
    "\n",
    "\n",
    "output_file.close()"
   ]
  }
 ],
 "metadata": {
  "kernelspec": {
   "display_name": "Python 3 (ipykernel)",
   "language": "python",
   "name": "python3"
  },
  "language_info": {
   "codemirror_mode": {
    "name": "ipython",
    "version": 3
   },
   "file_extension": ".py",
   "mimetype": "text/x-python",
   "name": "python",
   "nbconvert_exporter": "python",
   "pygments_lexer": "ipython3",
   "version": "3.8.10"
  }
 },
 "nbformat": 4,
 "nbformat_minor": 5
}
